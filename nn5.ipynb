{
 "cells": [
  {
   "attachments": {},
   "cell_type": "markdown",
   "metadata": {},
   "source": [
    "# Сверточные нейронные сети CNN"
   ]
  },
  {
   "cell_type": "code",
   "execution_count": 2,
   "metadata": {},
   "outputs": [
    {
     "name": "stdout",
     "output_type": "stream",
     "text": [
      "(60000, 28, 28, 1)\n",
      "Epoch 1/5\n",
      "1500/1500 [==============================] - 94s 62ms/step - loss: 0.1389 - accuracy: 0.9554 - val_loss: 0.0684 - val_accuracy: 0.9782\n",
      "Epoch 2/5\n",
      "1500/1500 [==============================] - 91s 60ms/step - loss: 0.0439 - accuracy: 0.9867 - val_loss: 0.0479 - val_accuracy: 0.9855\n",
      "Epoch 3/5\n",
      "1500/1500 [==============================] - 80s 53ms/step - loss: 0.0284 - accuracy: 0.9904 - val_loss: 0.0425 - val_accuracy: 0.9881\n",
      "Epoch 4/5\n",
      "1500/1500 [==============================] - 74s 50ms/step - loss: 0.0203 - accuracy: 0.9933 - val_loss: 0.0364 - val_accuracy: 0.9897\n",
      "Epoch 5/5\n",
      "1500/1500 [==============================] - 75s 50ms/step - loss: 0.0168 - accuracy: 0.9944 - val_loss: 0.0392 - val_accuracy: 0.9898\n",
      "313/313 [==============================] - 5s 15ms/step - loss: 0.0266 - accuracy: 0.9913\n"
     ]
    },
    {
     "data": {
      "text/plain": [
       "[0.02664620615541935, 0.9912999868392944]"
      ]
     },
     "execution_count": 2,
     "metadata": {},
     "output_type": "execute_result"
    }
   ],
   "source": [
    "from tensorflow.keras.layers import Dense, Flatten, Conv2D, MaxPooling2D\n",
    "from tensorflow import keras\n",
    "# библиотека базы выборок Mnist\n",
    "from tensorflow.keras.datasets import mnist\n",
    "import matplotlib.pyplot as plt\n",
    "import numpy as np\n",
    "import os\n",
    "os.environ['TF_CPP_MIN_LOG_LEVEL'] = '2'\n",
    "\n",
    "\n",
    "(x_train, y_train), (x_test, y_test) = mnist.load_data()\n",
    "\n",
    "# стандартизация входных данных\n",
    "x_train = x_train / 255\n",
    "x_test = x_test / 255\n",
    "\n",
    "y_train_cat = keras.utils.to_categorical(y_train, 10)\n",
    "y_test_cat = keras.utils.to_categorical(y_test, 10)\n",
    "\n",
    "x_train = np.expand_dims(x_train, axis=3)\n",
    "x_test = np.expand_dims(x_test, axis=3)\n",
    "\n",
    "print(x_train.shape)\n",
    "\n",
    "model = keras.Sequential([\n",
    "    Conv2D(32, (3, 3), padding='same',\n",
    "           activation='relu', input_shape=(28, 28, 1)),\n",
    "    MaxPooling2D((2, 2), strides=2),\n",
    "    Conv2D(64, (3, 3), padding='same', activation='relu'),\n",
    "    MaxPooling2D((2, 2), strides=2),\n",
    "    Flatten(),\n",
    "    Dense(128, activation='relu'),\n",
    "    Dense(10,  activation='softmax')\n",
    "])\n",
    "\n",
    "model.compile(optimizer='adam',\n",
    "              loss='categorical_crossentropy',\n",
    "              metrics=['accuracy'])\n",
    "\n",
    "\n",
    "his = model.fit(x_train, y_train_cat, batch_size=32,\n",
    "                epochs=5, validation_split=0.2)\n",
    "\n",
    "model.evaluate(x_test, y_test_cat)\n"
   ]
  },
  {
   "cell_type": "code",
   "execution_count": null,
   "metadata": {},
   "outputs": [],
   "source": [
    "# вывод структуры ИНС\n",
    "print(model.summary())"
   ]
  }
 ],
 "metadata": {
  "kernelspec": {
   "display_name": "Python 3",
   "language": "python",
   "name": "python3"
  },
  "language_info": {
   "codemirror_mode": {
    "name": "ipython",
    "version": 3
   },
   "file_extension": ".py",
   "mimetype": "text/x-python",
   "name": "python",
   "nbconvert_exporter": "python",
   "pygments_lexer": "ipython3",
   "version": "3.9.7"
  },
  "orig_nbformat": 4
 },
 "nbformat": 4,
 "nbformat_minor": 2
}
